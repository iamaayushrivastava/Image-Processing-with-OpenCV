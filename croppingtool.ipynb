{
 "cells": [
  {
   "cell_type": "code",
   "execution_count": 1,
   "metadata": {},
   "outputs": [],
   "source": [
    "# Cropping Tool\n",
    "\n",
    "import cv2\n",
    "import numpy as np\n",
    "\n",
    "img = cv2.imread(\"images/lion.jpg\")\n",
    "\n",
    "flag = False\n",
    "a = -1 # Current location of x\n",
    "b = -1 # Current location of y\n",
    "\n",
    "def crop(event, x, y, flags, params):\n",
    "    \n",
    "    global flag, a, b\n",
    "\n",
    "    if event == 1: # The mouse is pressed\n",
    "        flag = True\n",
    "        a = x\n",
    "        b = y\n",
    "\n",
    "    elif event == 4:\n",
    "        i = x\n",
    "        j = y\n",
    "        flag = False\n",
    "        \n",
    "        cv2.rectangle(img, pt1=(a,b), pt2=(x,y), color=(0,0,255), thickness=1)\n",
    "        \n",
    "        # Cropped image\n",
    "        croppedimg = img[b:j, a:i]\n",
    "\n",
    "        # Display the cropped image\n",
    "        cv2.imshow(\"output\", croppedimg)\n",
    "        cv2.waitKey(0)\n",
    "\n",
    "cv2.namedWindow(winname=\"output\")\n",
    "cv2.setMouseCallback(\"output\", crop)\n",
    "\n",
    "while True:\n",
    "    cv2.imshow(\"output\", img)\n",
    "    if cv2.waitKey(1) & 0xFF == ord('x'):\n",
    "        break\n",
    "\n",
    "cv2.destroyAllWindows()"
   ]
  }
 ],
 "metadata": {
  "kernelspec": {
   "display_name": "Python 3",
   "language": "python",
   "name": "python3"
  },
  "language_info": {
   "codemirror_mode": {
    "name": "ipython",
    "version": 3
   },
   "file_extension": ".py",
   "mimetype": "text/x-python",
   "name": "python",
   "nbconvert_exporter": "python",
   "pygments_lexer": "ipython3",
   "version": "3.12.0"
  }
 },
 "nbformat": 4,
 "nbformat_minor": 2
}
