{
 "cells": [
  {
   "cell_type": "markdown",
   "metadata": {},
   "source": [
    "## Image Processing using OpenCV"
   ]
  },
  {
   "cell_type": "code",
   "execution_count": 1,
   "metadata": {},
   "outputs": [],
   "source": [
    "# Import necessary libraries\n",
    "import cv2\n",
    "import numpy as np\n",
    "import matplotlib.pyplot as plt\n",
    "\n",
    "# Read an image\n",
    "img = cv2.imread(\"images/lion.jpg\")"
   ]
  },
  {
   "cell_type": "code",
   "execution_count": 2,
   "metadata": {},
   "outputs": [
    {
     "name": "stdout",
     "output_type": "stream",
     "text": [
      "<class 'numpy.ndarray'>\n"
     ]
    }
   ],
   "source": [
    "# Type of the image\n",
    "print(type(img))"
   ]
  },
  {
   "cell_type": "code",
   "execution_count": 3,
   "metadata": {},
   "outputs": [
    {
     "name": "stdout",
     "output_type": "stream",
     "text": [
      "(720, 1080, 3)\n"
     ]
    }
   ],
   "source": [
    "# Shape of the image\n",
    "print(img.shape)"
   ]
  },
  {
   "cell_type": "code",
   "execution_count": 4,
   "metadata": {},
   "outputs": [
    {
     "data": {
      "text/plain": [
       "-1"
      ]
     },
     "execution_count": 4,
     "metadata": {},
     "output_type": "execute_result"
    }
   ],
   "source": [
    "# Display the image\n",
    "cv2.imshow(\"output\", img)\n",
    "\n",
    "# To hold the output window on the screen\n",
    "cv2.waitKey(0)"
   ]
  },
  {
   "cell_type": "code",
   "execution_count": 5,
   "metadata": {},
   "outputs": [],
   "source": [
    "# Convert into Grayscale image\n",
    "gray1 = cv2.cvtColor(img, cv2.COLOR_RGB2GRAY)\n",
    "gray2 = cv2.cvtColor(img, cv2.COLOR_BGR2GRAY)"
   ]
  },
  {
   "cell_type": "code",
   "execution_count": 6,
   "metadata": {},
   "outputs": [],
   "source": [
    "# # Display the Grayscale image\n",
    "# cv2.imshow(\"output\", gray1)\n",
    "\n",
    "# # To hold the output window on the screen\n",
    "# cv2.waitKey(0)"
   ]
  },
  {
   "cell_type": "code",
   "execution_count": 7,
   "metadata": {},
   "outputs": [],
   "source": [
    "# Extract each channel from an RGB image\n",
    "blue = img[:,:,0]\n",
    "green = img[:,:,1]\n",
    "red = img[:,:,2]"
   ]
  },
  {
   "cell_type": "code",
   "execution_count": 8,
   "metadata": {},
   "outputs": [
    {
     "data": {
      "text/plain": [
       "-1"
      ]
     },
     "execution_count": 8,
     "metadata": {},
     "output_type": "execute_result"
    }
   ],
   "source": [
    "rgbimg = np.hstack((blue, green, red))\n",
    "\n",
    "# Display the rgb image\n",
    "cv2.imshow(\"output\", rgbimg)\n",
    "\n",
    "# To hold the output window on the screen\n",
    "cv2.waitKey(0)\n",
    "\n",
    "# plt.imshow(rgbimg)\n",
    "# plt.axis('off')  # Turn off axis numbers and ticks\n",
    "# plt.show()"
   ]
  },
  {
   "cell_type": "code",
   "execution_count": 9,
   "metadata": {},
   "outputs": [
    {
     "data": {
      "text/plain": [
       "-1"
      ]
     },
     "execution_count": 9,
     "metadata": {},
     "output_type": "execute_result"
    }
   ],
   "source": [
    "# Resizing an image\n",
    "resize = cv2.resize(img, (256, 256))\n",
    "\n",
    "# Display the resized image\n",
    "cv2.imshow(\"output\", resize)\n",
    "\n",
    "# To hold the output window on the screen\n",
    "cv2.waitKey(0)"
   ]
  },
  {
   "cell_type": "code",
   "execution_count": 10,
   "metadata": {},
   "outputs": [
    {
     "data": {
      "text/plain": [
       "-1"
      ]
     },
     "execution_count": 10,
     "metadata": {},
     "output_type": "execute_result"
    }
   ],
   "source": [
    "# Resize 50% of the image\n",
    "resize = cv2.resize(img, (img.shape[1]//2, img.shape[0]//2))\n",
    "\n",
    "# Display the 50% resized image\n",
    "cv2.imshow(\"output\", resize)\n",
    "\n",
    "# To hold the output window on the screen\n",
    "cv2.waitKey(0)"
   ]
  },
  {
   "cell_type": "code",
   "execution_count": 11,
   "metadata": {},
   "outputs": [],
   "source": [
    "# Flipping an image\n",
    "flip1 = cv2.flip(img, 0) # Vertical flip\n",
    "flip2 = cv2.flip(img, 1) # Horizontal flip\n",
    "flip3 = cv2.flip(img, -1) # Both horizontal and vertical flip (combined effect)"
   ]
  },
  {
   "cell_type": "code",
   "execution_count": 12,
   "metadata": {},
   "outputs": [
    {
     "data": {
      "text/plain": [
       "-1"
      ]
     },
     "execution_count": 12,
     "metadata": {},
     "output_type": "execute_result"
    }
   ],
   "source": [
    "# Display the flipped image in all directions\n",
    "cv2.imshow(\"output\", flip1)\n",
    "cv2.imshow(\"output\", flip2)\n",
    "cv2.imshow(\"output\", flip3)\n",
    "\n",
    "# To hold the output window on the screen\n",
    "cv2.waitKey(0)"
   ]
  },
  {
   "cell_type": "code",
   "execution_count": 13,
   "metadata": {},
   "outputs": [
    {
     "data": {
      "text/plain": [
       "-1"
      ]
     },
     "execution_count": 13,
     "metadata": {},
     "output_type": "execute_result"
    }
   ],
   "source": [
    "# Cropping an image\n",
    "crop = img[0:300, 0:500]\n",
    "\n",
    "# Display the cropped image\n",
    "cv2.imshow(\"output\", crop)\n",
    "\n",
    "# To hold the output window on the screen\n",
    "cv2.waitKey(0)"
   ]
  },
  {
   "cell_type": "code",
   "execution_count": 14,
   "metadata": {},
   "outputs": [
    {
     "data": {
      "text/plain": [
       "True"
      ]
     },
     "execution_count": 14,
     "metadata": {},
     "output_type": "execute_result"
    }
   ],
   "source": [
    "# Save an image\n",
    "cv2.imwrite('croppedimg.jpg', crop)"
   ]
  },
  {
   "cell_type": "code",
   "execution_count": 15,
   "metadata": {},
   "outputs": [
    {
     "data": {
      "text/plain": [
       "-1"
      ]
     },
     "execution_count": 15,
     "metadata": {},
     "output_type": "execute_result"
    }
   ],
   "source": [
    "# Creating an image\n",
    "img = np.zeros((512,512,3))\n",
    "\n",
    "# Display the image\n",
    "cv2.imshow(\"output\", img)\n",
    "\n",
    "# To hold the output window on the screen\n",
    "cv2.waitKey(0)"
   ]
  },
  {
   "cell_type": "markdown",
   "metadata": {},
   "source": [
    "## Drawing shapes in the image using OpenCV"
   ]
  },
  {
   "cell_type": "code",
   "execution_count": 16,
   "metadata": {},
   "outputs": [
    {
     "data": {
      "text/plain": [
       "-1"
      ]
     },
     "execution_count": 16,
     "metadata": {},
     "output_type": "execute_result"
    }
   ],
   "source": [
    "# Draw shapes\n",
    "\n",
    "# Rectangle\n",
    "cv2.rectangle(img, pt1=(100,100), pt2=(400,400), color=(0,0,255), thickness=2)\n",
    "\n",
    "# Circle\n",
    "cv2.circle(img, center=(100,400), radius=40, color=(0,255,0), thickness=2)\n",
    "cv2.circle(img, center=(100,400), radius=40, color=(0,255,0), thickness=-1) # Filled rectangle\n",
    "\n",
    "# Line\n",
    "cv2.line(img, pt1=(0,0), pt2=(512,512), color = (255,0,0), thickness=2)\n",
    "\n",
    "# Display the image\n",
    "cv2.imshow(\"output\", img)\n",
    "\n",
    "# To hold the output window on the screen\n",
    "cv2.waitKey(0)"
   ]
  },
  {
   "cell_type": "code",
   "execution_count": 17,
   "metadata": {},
   "outputs": [
    {
     "data": {
      "text/plain": [
       "-1"
      ]
     },
     "execution_count": 17,
     "metadata": {},
     "output_type": "execute_result"
    }
   ],
   "source": [
    "# Font\n",
    "cv2.putText(img, text=\"Hello\", org=(200,200), fontScale=4, color=(0,255,255), thickness=2, lineType=cv2.LINE_AA, fontFace=cv2.FONT_ITALIC)\n",
    "\n",
    "# Display the image\n",
    "cv2.imshow(\"output\", img)\n",
    "\n",
    "# To hold the output window on the screen\n",
    "cv2.waitKey(0)"
   ]
  },
  {
   "cell_type": "markdown",
   "metadata": {},
   "source": [
    "## Interact with images using OpenCV"
   ]
  },
  {
   "cell_type": "code",
   "execution_count": 18,
   "metadata": {},
   "outputs": [],
   "source": [
    "img = np.zeros((512,512,3))\n",
    "\n",
    "while True:\n",
    "    cv2.imshow(\"output\", img)\n",
    "    if cv2.waitKey(0) & 0xFF == ord('x'):\n",
    "        break\n",
    "\n",
    "cv2.destroyAllWindows()"
   ]
  },
  {
   "cell_type": "code",
   "execution_count": null,
   "metadata": {},
   "outputs": [],
   "source": [
    "# Interact with the image based on an event\n",
    "\n",
    "def draw(event, x, y, flags, params):\n",
    "    # print(event)\n",
    "    # if event == 0:\n",
    "    #     print(\"Mouse moved\")\n",
    "    # if event == 1:\n",
    "    #     print(\"Mouse down clicked\")\n",
    "    # if event == 4:\n",
    "    #     print(\"Mouse up clicked\")\n",
    "\n",
    "    # Draw a circle when the mouse is clicked\n",
    "    if event == 1:\n",
    "        cv2.circle(img, center=(x,y), radius=50, color=(0,255,0), thickness=-1)\n",
    "\n",
    "cv2.namedWindow(winname=\"output\")\n",
    "cv2.setMouseCallback(\"output\", draw)\n",
    "\n",
    "img = np.zeros((512,512,3))\n",
    "# img = cv2.imread(\"images/lion.jpg\")\n",
    "\n",
    "while True:\n",
    "    cv2.imshow(\"output\", img)\n",
    "    if cv2.waitKey(1) & 0xFF == ord('x'):\n",
    "        break\n",
    "\n",
    "cv2.destroyAllWindows()"
   ]
  },
  {
   "cell_type": "code",
   "execution_count": 20,
   "metadata": {},
   "outputs": [],
   "source": [
    "# Draw a rectangle by dragging the mouse\n",
    "\n",
    "drawing = False\n",
    "a = -1 # Current location of x\n",
    "b = -1 # Current location of y\n",
    "\n",
    "def draw(event, x, y, flags, params):\n",
    "    \n",
    "    global drawing, a, b\n",
    "\n",
    "    if event == 0:\n",
    "        if drawing == True:\n",
    "            cv2.rectangle(img, pt1=(a,b), pt2=(x,y), color=(0,0,255), thickness=-1)\n",
    "\n",
    "    elif event == 1:\n",
    "        drawing = True\n",
    "        a = x\n",
    "        b = y\n",
    "\n",
    "    elif event == 4:\n",
    "        drawing = False\n",
    "        cv2.rectangle(img, pt1=(a,b), pt2=(x,y), color=(0,0,255), thickness=-1)\n",
    "\n",
    "cv2.namedWindow(winname=\"output\")\n",
    "cv2.setMouseCallback(\"output\", draw)\n",
    "\n",
    "img = np.zeros((512,512,3))\n",
    "# img = cv2.imread(\"images/lion.jpg\")\n",
    "\n",
    "while True:\n",
    "    cv2.imshow(\"output\", img)\n",
    "    if cv2.waitKey(1) & 0xFF == ord('x'):\n",
    "        break\n",
    "\n",
    "cv2.destroyAllWindows()"
   ]
  }
 ],
 "metadata": {
  "kernelspec": {
   "display_name": "Python 3",
   "language": "python",
   "name": "python3"
  },
  "language_info": {
   "codemirror_mode": {
    "name": "ipython",
    "version": 3
   },
   "file_extension": ".py",
   "mimetype": "text/x-python",
   "name": "python",
   "nbconvert_exporter": "python",
   "pygments_lexer": "ipython3",
   "version": "3.12.0"
  }
 },
 "nbformat": 4,
 "nbformat_minor": 2
}
